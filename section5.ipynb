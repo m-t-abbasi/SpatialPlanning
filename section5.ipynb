{
  "nbformat": 4,
  "nbformat_minor": 0,
  "metadata": {
    "colab": {
      "provenance": [],
      "authorship_tag": "ABX9TyNXEUHZlIfR/QTEh0+pnXp2",
      "include_colab_link": true
    },
    "kernelspec": {
      "name": "python3",
      "display_name": "Python 3"
    },
    "language_info": {
      "name": "python"
    }
  },
  "cells": [
    {
      "cell_type": "markdown",
      "metadata": {
        "id": "view-in-github",
        "colab_type": "text"
      },
      "source": [
        "<a href=\"https://colab.research.google.com/github/m-t-abbasi/SpatialPlanning/blob/main/section5.ipynb\" target=\"_parent\"><img src=\"https://colab.research.google.com/assets/colab-badge.svg\" alt=\"Open In Colab\"/></a>"
      ]
    },
    {
      "cell_type": "code",
      "execution_count": 5,
      "metadata": {
        "colab": {
          "base_uri": "https://localhost:8080/"
        },
        "id": "6jrlVZZ0eWeW",
        "outputId": "6579f58c-179a-4059-f412-e3918fb55992"
      },
      "outputs": [
        {
          "output_type": "stream",
          "name": "stdout",
          "text": [
            "میانگین نسبت محاسبه شده برای کاربری maskooni و بافر 100: 0.02054414609453699\n",
            "میانگین نسبت محاسبه شده برای کاربری maskooni و بافر 200: 0.08310825510050744\n",
            "میانگین نسبت محاسبه شده برای کاربری maskooni و بافر 300: 0.1608907276031779\n",
            "میانگین نسبت محاسبه شده برای کاربری tejari و بافر 100: 0.08814098137685958\n",
            "میانگین نسبت محاسبه شده برای کاربری tejari و بافر 200: 0.2221946199393265\n",
            "میانگین نسبت محاسبه شده برای کاربری tejari و بافر 300: 0.31612880032312807\n",
            "میانگین نسبت محاسبه شده برای کاربری bayer و بافر 100: 0.047163850400183484\n",
            "میانگین نسبت محاسبه شده برای کاربری bayer و بافر 200: 0.7047517088676124\n",
            "میانگین نسبت محاسبه شده برای کاربری bayer و بافر 300: 1.0299397091719198\n",
            "میانگین نسبت محاسبه شده برای کاربری khadamati و بافر 100: 1.4318115461537766\n",
            "میانگین نسبت محاسبه شده برای کاربری khadamati و بافر 200: 1.194040222120178\n",
            "میانگین نسبت محاسبه شده برای کاربری khadamati و بافر 300: 1.0122684869191088\n",
            "میانگین نسبت محاسبه شده برای کاربری amozshi و بافر 100: 1.0208375887419334\n",
            "میانگین نسبت محاسبه شده برای کاربری amozshi و بافر 200: 1.706407606351204\n",
            "میانگین نسبت محاسبه شده برای کاربری amozshi و بافر 300: 8.613691910113511\n",
            "میانگین نسبت محاسبه شده برای کاربری park و بافر 100: 0.0\n",
            "میانگین نسبت محاسبه شده برای کاربری park و بافر 200: 0.5482527830161436\n",
            "میانگین نسبت محاسبه شده برای کاربری park و بافر 300: 3.44361386069583\n",
            "میانگین نسبت محاسبه شده برای کاربری sanati و بافر 100: 123.55291063117677\n",
            "میانگین نسبت محاسبه شده برای کاربری sanati و بافر 200: 89.69510424259437\n",
            "میانگین نسبت محاسبه شده برای کاربری sanati و بافر 300: 180.45584990388392\n",
            "میانگین نسبت محاسبه شده برای کاربری darmani و بافر 100: 0.0\n",
            "میانگین نسبت محاسبه شده برای کاربری darmani و بافر 200: 162.2176410641445\n",
            "میانگین نسبت محاسبه شده برای کاربری darmani و بافر 300: 47.50915175276862\n",
            "میانگین نسبت محاسبه شده برای کاربری damani و بافر 100: 0.0\n",
            "میانگین نسبت محاسبه شده برای کاربری damani و بافر 200: 7037.140848507607\n",
            "میانگین نسبت محاسبه شده برای کاربری damani و بافر 300: 0.0\n"
          ]
        }
      ],
      "source": [
        "import geopandas as gpd\n",
        "import numpy as np\n",
        "import random\n",
        "\n",
        "# مسیر فایل شیپ را تعیین می کنیم\n",
        "shapefile_path = \"/content/landuse_shp.shp\"\n",
        "\n",
        "# خواندن فایل شیپ\n",
        "gdf = gpd.read_file(shapefile_path)\n",
        "\n",
        "# تعداد کل پارسل‌های منطقه\n",
        "total_parcels = len(gdf)\n",
        "\n",
        "# شمارش تعداد پارسل‌ها به تفکیک کاربری\n",
        "landuse_counts = gdf['landuse2'].value_counts().to_dict()\n",
        "\n",
        "# محاسبه مساحت هر کاربری بر حسب کل مساحت پارسل‌های منطقه\n",
        "landuse_areas = gdf.groupby('landuse2')['SHAPE_Area'].sum().to_dict()\n",
        "\n",
        "# تعریف اندازه‌های مختلف بافر\n",
        "buffer_sizes = [100, 200, 300]\n",
        "\n",
        "# دیکشنری برای ذخیره میانگین نسبت‌ها بر اساس کاربری و بافر\n",
        "mean_ratios = {}\n",
        "\n",
        "# تعداد پارسل‌هایی که برای محاسبه استفاده می‌شود\n",
        "sample_size = 10\n",
        "\n",
        "# پیمایش تک تک کاربری‌ها\n",
        "for landuse_type in landuse_counts.keys():\n",
        "    mean_ratios[landuse_type] = {}  # دیکشنری برای ذخیره میانگین نسبت‌ها بر اساس بافر\n",
        "    \n",
        "    # پیمایش تک تک اندازه‌های بافر\n",
        "    for buffer_size in buffer_sizes:\n",
        "        ratios = []  # لیستی برای ذخیره نسبت‌های محاسبه شده\n",
        "        \n",
        "        # انتخاب تصادفی ۱۰ پارسل برای محاسبه\n",
        "        random_parcel_indices = random.sample(range(total_parcels), sample_size)\n",
        "        \n",
        "        # پیمایش تک تک پارسل‌های انتخاب شده\n",
        "        for index in random_parcel_indices:\n",
        "            row = gdf.iloc[index]\n",
        "            parcel_id = row['OBJECTID']  # شماره پارسل\n",
        "            \n",
        "            buffer = row.geometry.buffer(buffer_size)\n",
        "            \n",
        "            # پیدا کردن پارسل‌هایی که کاملاً در داخل هر بافر قرار دارند\n",
        "            parcels_within_buffer = gdf[gdf.geometry.within(buffer)]\n",
        "            \n",
        "            # شمارش تعداد پارسل‌ها به تفکیک کاربری\n",
        "            landuse_counts_within_buffer = parcels_within_buffer['landuse2'].value_counts().to_dict()\n",
        "            \n",
        "            # محاسبه مساحت هر کاربری در هر بافر\n",
        "            landuse_areas_within_buffer = parcels_within_buffer.groupby('landuse2')['SHAPE_Area'].sum().to_dict()\n",
        "            \n",
        "            # محاسبه نسبت آماری برای هر کاربری\n",
        "            S_di = sum(landuse_areas_within_buffer.values())\n",
        "            N_k = landuse_counts[landuse_type]\n",
        "            S_k = landuse_areas[landuse_type]\n",
        "            N = len(gdf)\n",
        "            S = sum(landuse_areas.values())\n",
        "            \n",
        "            ratio = ((landuse_counts_within_buffer.get(landuse_type, 0) * landuse_areas_within_buffer.get(landuse_type, 0)) / (N_k * S_di)) / ((N_k * S_k) / (N * S))\n",
        "            ratios.append(ratio)\n",
        "    \n",
        "        # محاسبه میانگین نسبت‌ها برای هر کاربری و بافر\n",
        "        mean_ratio = np.mean(ratios)\n",
        "        \n",
        "        # ذخیره میانگین نسبت در دیکشنری\n",
        "        mean_ratios[landuse_type][buffer_size] = mean_ratio\n",
        "\n",
        "# چاپ میانگین نسبت‌ها بر اساس کاربری و بافر\n",
        "for landuse_type in mean_ratios.keys():\n",
        "    for buffer_size, mean_ratio in mean_ratios[landuse_type].items():\n",
        "        print(f\"میانگین نسبت محاسبه شده برای کاربری {landuse_type} و بافر {buffer_size}: {mean_ratio}\")\n",
        "\n",
        "\n",
        "\n"
      ]
    }
  ]
}