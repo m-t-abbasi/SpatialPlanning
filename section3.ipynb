{
  "nbformat": 4,
  "nbformat_minor": 0,
  "metadata": {
    "colab": {
      "provenance": [],
      "authorship_tag": "ABX9TyPh0f71cSKAyTFYjHwXK87D",
      "include_colab_link": true
    },
    "kernelspec": {
      "name": "python3",
      "display_name": "Python 3"
    },
    "language_info": {
      "name": "python"
    }
  },
  "cells": [
    {
      "cell_type": "markdown",
      "metadata": {
        "id": "view-in-github",
        "colab_type": "text"
      },
      "source": [
        "<a href=\"https://colab.research.google.com/github/m-t-abbasi/SpatialPlanning/blob/main/section3.ipynb\" target=\"_parent\"><img src=\"https://colab.research.google.com/assets/colab-badge.svg\" alt=\"Open In Colab\"/></a>"
      ]
    },
    {
      "cell_type": "code",
      "execution_count": null,
      "metadata": {
        "colab": {
          "base_uri": "https://localhost:8080/"
        },
        "id": "5cxj6HThfpKC",
        "outputId": "ec2f15ce-c957-43b9-acb7-6d2fb08ab0ae"
      },
      "outputs": [
        {
          "output_type": "stream",
          "name": "stdout",
          "text": [
            " (N(k)*S(k))/N*S maskooni: 0.3491381964113157\n",
            "\n",
            " (N(k)*S(k))/N*S tejari: 0.015255853187305676\n",
            "\n",
            " (N(k)*S(k))/N*S bayer: 0.013620247270234753\n",
            "\n",
            " (N(k)*S(k))/N*S khadamati: 0.0014168387599171907\n",
            "\n",
            " (N(k)*S(k))/N*S amozshi: 0.0003716211132615859\n",
            "\n",
            " (N(k)*S(k))/N*S park: 0.00028799826461889746\n",
            "\n",
            " (N(k)*S(k))/N*S sanati: 2.8848463048788544e-06\n",
            "\n",
            " (N(k)*S(k))/N*S darmani: 6.630315836577623e-06\n",
            "\n"
          ]
        }
      ],
      "source": [
        "import geopandas as gpd\n",
        "\n",
        "# مسیر فایل شیپ را تعیین می کنیم\n",
        "shapefile_path = \"/content/landuse_shp.shp\"\n",
        "\n",
        "# خواندن فایل شیپ\n",
        "gdf = gpd.read_file(shapefile_path)\n",
        "\n",
        "# تعداد کل پارسل‌های منطقه\n",
        "total_parcels = len(gdf)\n",
        "\n",
        "# شمارش تعداد پارسل‌ها به تفکیک کاربری\n",
        "landuse_counts = gdf['landuse2'].value_counts().to_dict()\n",
        "\n",
        "# محاسبه مساحت هر کاربری بر حسب کل مساحت پارسل‌های منطقه\n",
        "landuse_areas = gdf.groupby('landuse2')['SHAPE_Area'].sum().to_dict()\n",
        "\n",
        "# محاسبه نسبت مساحت هر کاربری\n",
        "for landuse_type, count in landuse_counts.items():\n",
        "    area_ratio = (landuse_areas[landuse_type] * count) / (sum(landuse_areas.values()) * total_parcels)\n",
        "    print(f\" (N(k)*S(k))/N*S {landuse_type}: {area_ratio}\")\n",
        "    print()\n"
      ]
    }
  ]
}