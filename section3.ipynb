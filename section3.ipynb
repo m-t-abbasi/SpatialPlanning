{
  "nbformat": 4,
  "nbformat_minor": 0,
  "metadata": {
    "colab": {
      "provenance": [],
      "authorship_tag": "ABX9TyP0ppmEuC1Olc8qhR4I2/Al",
      "include_colab_link": true
    },
    "kernelspec": {
      "name": "python3",
      "display_name": "Python 3"
    },
    "language_info": {
      "name": "python"
    }
  },
  "cells": [
    {
      "cell_type": "markdown",
      "metadata": {
        "id": "view-in-github",
        "colab_type": "text"
      },
      "source": [
        "<a href=\"https://colab.research.google.com/github/m-t-abbasi/SpatialPlanning/blob/main/section3.ipynb\" target=\"_parent\"><img src=\"https://colab.research.google.com/assets/colab-badge.svg\" alt=\"Open In Colab\"/></a>"
      ]
    },
    {
      "cell_type": "code",
      "source": [],
      "metadata": {
        "id": "2mDuNq9LCX3y"
      },
      "execution_count": null,
      "outputs": []
    },
    {
      "cell_type": "code",
      "execution_count": 18,
      "metadata": {
        "colab": {
          "base_uri": "https://localhost:8080/"
        },
        "id": "5cxj6HThfpKC",
        "outputId": "e3bed0e0-289f-4c9b-b6be-2c6a53067ab1"
      },
      "outputs": [
        {
          "output_type": "stream",
          "name": "stdout",
          "text": [
            " N(k)/N maskooni  : 0.6652868969454753\n",
            " N(k)/N tejari  : 0.2396517270910648\n",
            " N(k)/N bayer  : 0.05309734513274336\n",
            " N(k)/N khadamati  : 0.016129032258064516\n",
            " N(k)/N amozshi  : 0.010847844704538966\n",
            " N(k)/N park  : 0.009991435912075365\n",
            " N(k)/N sanati  : 0.0028546959748786756\n",
            " N(k)/N darmani  : 0.0021410219811590064\n"
          ]
        }
      ],
      "source": [
        "import geopandas as gpd\n",
        "\n",
        "# مسیر فایل شیپ را تعیین می کنیم\n",
        "shapefile_path = \"/content/landuse_shp.shp\"\n",
        "\n",
        "# خواندن فایل شیپ\n",
        "gdf = gpd.read_file(shapefile_path)\n",
        "\n",
        "# تعداد کل پارسل‌های منطقه\n",
        "total_parcels = len(gdf)\n",
        "\n",
        "# شمارش تعداد پارسل‌ها به تفکیک کاربری\n",
        "landuse_counts = gdf['landuse2'].value_counts().to_dict()\n",
        "\n",
        "# چاپ نسبت تعداد پارسل‌های کاربری به کل پارسل‌های منطقه\n",
        "for landuse_type, count in landuse_counts.items():\n",
        "    ratio = count / total_parcels\n",
        "    print(f\" N(k)/N {landuse_type}  : {ratio}\")\n",
        "\n"
      ]
    }
  ]
}