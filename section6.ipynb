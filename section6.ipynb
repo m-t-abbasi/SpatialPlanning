{
  "nbformat": 4,
  "nbformat_minor": 0,
  "metadata": {
    "colab": {
      "provenance": [],
      "authorship_tag": "ABX9TyONoXwzALtYn3Cx0pWXVFok",
      "include_colab_link": true
    },
    "kernelspec": {
      "name": "python3",
      "display_name": "Python 3"
    },
    "language_info": {
      "name": "python"
    }
  },
  "cells": [
    {
      "cell_type": "markdown",
      "metadata": {
        "id": "view-in-github",
        "colab_type": "text"
      },
      "source": [
        "<a href=\"https://colab.research.google.com/github/m-t-abbasi/SpatialPlanning/blob/main/section6.ipynb\" target=\"_parent\"><img src=\"https://colab.research.google.com/assets/colab-badge.svg\" alt=\"Open In Colab\"/></a>"
      ]
    },
    {
      "cell_type": "code",
      "execution_count": 4,
      "metadata": {
        "colab": {
          "base_uri": "https://localhost:8080/"
        },
        "id": "8FM5aJNrrdT5",
        "outputId": "d91785af-6a6e-4a7e-93f4-1290b46cdb1c"
      },
      "outputs": [
        {
          "output_type": "stream",
          "name": "stdout",
          "text": [
            "شاخص غنی شدگی برای کاربری maskooni و بافر 100: -3.6949416495691154\n",
            "شاخص غنی شدگی برای کاربری maskooni و بافر 200: -2.546758455922262\n",
            "شاخص غنی شدگی برای کاربری maskooni و بافر 300: -1.9061152450636727\n",
            "شاخص غنی شدگی برای کاربری tejari و بافر 100: -2.303323193142576\n",
            "شاخص غنی شدگی برای کاربری tejari و بافر 200: -1.441810622625696\n",
            "شاخص غنی شدگی برای کاربری tejari و بافر 300: -0.8801893916328429\n",
            "شاخص غنی شدگی برای کاربری bayer و بافر 100: -1.6875399543148932\n",
            "شاخص غنی شدگی برای کاربری bayer و بافر 200: -0.9128417551546545\n",
            "شاخص غنی شدگی برای کاربری bayer و بافر 300: -0.46501300569073756\n",
            "شاخص غنی شدگی برای کاربری khadamati و بافر 100: -0.7975987461543872\n",
            "شاخص غنی شدگی برای کاربری khadamati و بافر 200: 0.33434623000508673\n",
            "شاخص غنی شدگی برای کاربری khadamati و بافر 300: 1.0778133288415073\n",
            "شاخص غنی شدگی برای کاربری amozshi و بافر 100: 0.2709720529077686\n",
            "شاخص غنی شدگی برای کاربری amozshi و بافر 200: 1.4366476603575689\n",
            "شاخص غنی شدگی برای کاربری amozshi و بافر 300: 2.1304752793943464\n",
            "شاخص غنی شدگی برای کاربری park و بافر 100: 0.1577259827322381\n",
            "شاخص غنی شدگی برای کاربری park و بافر 200: 1.1097196845933461\n",
            "شاخص غنی شدگی برای کاربری park و بافر 300: 1.80875035297619\n",
            "شاخص غنی شدگی برای کاربری sanati و بافر 100: 4.0232219501390185\n",
            "شاخص غنی شدگی برای کاربری sanati و بافر 200: 4.666360759354379\n",
            "شاخص غنی شدگی برای کاربری sanati و بافر 300: 4.9802166198814275\n",
            "شاخص غنی شدگی برای کاربری darmani و بافر 100: 3.9855993519489936\n",
            "شاخص غنی شدگی برای کاربری darmani و بافر 200: 4.146575878263413\n",
            "شاخص غنی شدگی برای کاربری darmani و بافر 300: 4.511365933732089\n",
            "شاخص غنی شدگی برای کاربری damani و بافر 100: 7.350026958511728\n",
            "شاخص غنی شدگی برای کاربری damani و بافر 200: 7.442483739397492\n",
            "شاخص غنی شدگی برای کاربری damani و بافر 300: 7.577973104380965\n"
          ]
        }
      ],
      "source": [
        "import geopandas as gpd\n",
        "import numpy as np\n",
        "import random\n",
        "\n",
        "# مسیر فایل شیپ را تعیین می‌کنیم\n",
        "shapefile_path = \"/content/landuse_shp.shp\"\n",
        "\n",
        "# خواندن فایل شیپ\n",
        "gdf = gpd.read_file(shapefile_path)\n",
        "\n",
        "# تعداد کل پارسل‌های منطقه\n",
        "total_parcels = len(gdf)\n",
        "\n",
        "# شمارش تعداد پارسل‌ها به تفکیک کاربری\n",
        "landuse_counts = gdf['landuse2'].value_counts().to_dict()\n",
        "\n",
        "# محاسبه مساحت هر کاربری بر حسب کل مساحت پارسل‌های منطقه\n",
        "landuse_areas = gdf.groupby('landuse2')['SHAPE_Area'].sum().to_dict()\n",
        "\n",
        "# تعریف اندازه‌های مختلف بافر\n",
        "buffer_sizes = [100, 200, 300]\n",
        "\n",
        "# دیکشنری برای ذخیره میانگین نسبت‌ها بر اساس کاربری و بافر\n",
        "mean_ratios = {}\n",
        "\n",
        "# تعداد پارسل‌هایی که برای محاسبه استفاده می‌شود\n",
        "sample_size = 10\n",
        "\n",
        "# پیمایش تک تک کاربری‌ها\n",
        "for landuse_type in landuse_counts.keys():\n",
        "    mean_ratios[landuse_type] = {}  # دیکشنری برای ذخیره میانگین نسبت‌ها بر اساس بافر\n",
        "    \n",
        "    # پیمایش تک تک اندازه‌های بافر\n",
        "    for buffer_size in buffer_sizes:\n",
        "        ratios = []  # لیستی برای ذخیره نسبت‌های محاسبه شده\n",
        "        \n",
        "        # پیمایش تک تک پارسل‌ها\n",
        "        for index, row in gdf.iterrows():\n",
        "            parcel_id = row['OBJECTID']  # شماره پارسل\n",
        "            \n",
        "            buffer = row.geometry.buffer(buffer_size)\n",
        "            \n",
        "            # پیدا کردن پارسل‌هایی که کاملاً در داخل هر بافر قرار دارند\n",
        "            parcels_within_buffer = gdf[gdf.geometry.within(buffer)]\n",
        "            \n",
        "            # شمارش تعداد پارسل‌ها به تفکیک کاربری\n",
        "            landuse_counts_within_buffer = parcels_within_buffer['landuse2'].value_counts().to_dict()\n",
        "            \n",
        "            # محاسبه مساحت هر کاربری در هر بافر\n",
        "            landuse_areas_within_buffer = parcels_within_buffer.groupby('landuse2')['SHAPE_Area'].sum().to_dict()\n",
        "            \n",
        "            # محاسبه نسبت آماری برای هر کاربری\n",
        "            S_di = sum(landuse_areas_within_buffer.values())\n",
        "            N_k = landuse_counts[landuse_type]\n",
        "            S_k = landuse_areas[landuse_type]\n",
        "            N = total_parcels\n",
        "            S = sum(landuse_areas.values())\n",
        "            \n",
        "            ratio = ((landuse_counts_within_buffer.get(landuse_type, 0) * landuse_areas_within_buffer.get(landuse_type, 0)) / (N_k * S_di)) / ((N_k * S_k) / (N * S))\n",
        "            ratios.append(ratio)\n",
        "    \n",
        "        # محاسبه میانگین نسبت‌ها برای هر کاربری و بافر\n",
        "        mean_ratio = np.mean(ratios)\n",
        "        \n",
        "        # ذخیره میانگین نسبت در دیکشنری\n",
        "        mean_ratios[landuse_type][buffer_size] = mean_ratio\n",
        "\n",
        "# دیکشنری برای ذخیره شاخص غنی شدگی بر اساس کاربری و بافر\n",
        "enrichment_indices = {}\n",
        "\n",
        "# پیمایش تک تک کاربری‌ها\n",
        "for landuse_type in mean_ratios.keys():\n",
        "    enrichment_indices[landuse_type] = {}  # دیکشنری برای ذخیره شاخص غنی شدگی بر اساس بافر\n",
        "    \n",
        "    # پیمایش تک تک اندازه‌های بافر\n",
        "    for buffer_size in buffer_sizes:\n",
        "        ratio = mean_ratios[landuse_type][buffer_size]\n",
        "        \n",
        "        # محاسبه لگاریتم نسبت\n",
        "        enrichment_index = np.log(ratio)\n",
        "        \n",
        "        # ذخیره شاخص غنی شدگی در دیکشنری\n",
        "        enrichment_indices[landuse_type][buffer_size] = enrichment_index\n",
        "\n",
        "\n",
        "# چاپ شاخص غنی شدگی بر اساس کاربری و بافر\n",
        "for landuse_type in enrichment_indices.keys():\n",
        "    for buffer_size, enrichment_index in enrichment_indices[landuse_type].items():\n",
        "        print(f\"شاخص غنی شدگی برای کاربری {landuse_type} و بافر {buffer_size}: {enrichment_index}\")\n"
      ]
    }
  ]
}