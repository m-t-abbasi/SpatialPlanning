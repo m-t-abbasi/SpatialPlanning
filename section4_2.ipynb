{
  "cells": [
    {
      "cell_type": "markdown",
      "metadata": {
        "id": "view-in-github",
        "colab_type": "text"
      },
      "source": [
        "<a href=\"https://colab.research.google.com/github/m-t-abbasi/SpatialPlanning/blob/main/section4_2.ipynb\" target=\"_parent\"><img src=\"https://colab.research.google.com/assets/colab-badge.svg\" alt=\"Open In Colab\"/></a>"
      ]
    },
    {
      "cell_type": "code",
      "execution_count": 3,
      "metadata": {
        "colab": {
          "base_uri": "https://localhost:8080/"
        },
        "id": "NNYTMs_YA4J0",
        "outputId": "12afbfae-2c44-4ca1-cc42-1857ecbeb7b7"
      },
      "outputs": [
        {
          "output_type": "stream",
          "name": "stdout",
          "text": [
            "میانگین کوواریانس بین دوبه دوی کاربری‌ها برای بافر 100 متری:\n",
            "maskooni: 0.5436621672641153\n",
            "bayer: 0.023560578385124837\n",
            "sanati: 4.571579273161961e-05\n",
            "tejari: 0.040645662082867955\n",
            "park: 0.001274276913329715\n",
            "khadamati: 0.0013557533693973381\n",
            "amozshi: 0.0008148725543067538\n",
            "darmani: 7.112711447806713e-05\n",
            "\n",
            "میانگین کوواریانس بین دوبه دوی کاربری‌ها برای بافر 200 متری:\n",
            "maskooni: 0.519676132416553\n",
            "bayer: 0.014835791595529243\n",
            "sanati: 2.1442048005719993e-05\n",
            "tejari: 0.026998883958410082\n",
            "park: 0.0009579079052723424\n",
            "khadamati: 0.0010368350559236612\n",
            "amozshi: 0.0006937134164065159\n",
            "darmani: 2.2024090921289806e-05\n",
            "\n",
            "میانگین کوواریانس بین دوبه دوی کاربری‌ها برای بافر 300 متری:\n",
            "maskooni: 0.5000996461998799\n",
            "bayer: 0.010086669765425077\n",
            "sanati: 1.4479118153160524e-05\n",
            "tejari: 0.023142016563343484\n",
            "park: 0.0005920757985151497\n",
            "khadamati: 0.0009351193143672815\n",
            "amozshi: 0.0005625144102920566\n",
            "darmani: 1.6260954357068873e-05\n",
            "\n"
          ]
        }
      ],
      "source": [
        "import geopandas as gpd\n",
        "import numpy as np\n",
        "\n",
        "# مسیر فایل شیپ را تعیین می کنیم\n",
        "shapefile_path = \"/content/landuse_shp.shp\"\n",
        "\n",
        "# خواندن فایل شیپ\n",
        "gdf = gpd.read_file(shapefile_path)\n",
        "\n",
        "# تعریف اندازه‌های مختلف بافر\n",
        "buffer_sizes = [100, 200, 300]\n",
        "\n",
        "# تعریف نام‌های کاربری برای محاسبه کوواریانس\n",
        "landuse_names = gdf['landuse2'].unique()\n",
        "\n",
        "# تعریف دیکشنری برای نگهداری میانگین کوواریانس بین دوبه دوی کاربری‌ها\n",
        "mean_covariances = {}\n",
        "\n",
        "# پیمایش تک تک اندازه‌های بافر\n",
        "for buffer_size in buffer_sizes:\n",
        "    # تعریف لیست برای نگهداری کوواریانس‌ها\n",
        "    covariances = []\n",
        "    \n",
        "    # پیمایش تک تک پارسل‌های شیپ فایل\n",
        "    for index, row in gdf.iterrows():\n",
        "        parcel_id = row['OBJECTID']  # شماره پارسل\n",
        "        \n",
        "        # تعریف دیکشنری برای نگهداری کوواریانس بین دوبه دوی کاربری‌ها\n",
        "        covariances_dict = {}\n",
        "        \n",
        "        buffer = row.geometry.buffer(buffer_size)\n",
        "        \n",
        "        # پیدا کردن پارسل‌هایی که کاملاً در داخل هر بافر قرار دارند\n",
        "        parcels_within_buffer = gdf[gdf.geometry.within(buffer)]\n",
        "        \n",
        "        # شمارش تعداد پارسل‌ها به تفکیک کاربری\n",
        "        landuse_counts = parcels_within_buffer['landuse2'].value_counts().to_dict()\n",
        "        \n",
        "        # اضافه کردن کاربری‌هایی که تعداد پارسل صفر دارند\n",
        "        all_landuse_types = set(gdf['landuse2'].unique())\n",
        "        for landuse_type in all_landuse_types:\n",
        "            landuse_counts.setdefault(landuse_type, 0)\n",
        "        \n",
        "        # محاسبه مساحت هر کاربری در هر بافر\n",
        "        landuse_areas = parcels_within_buffer.groupby('landuse2')['SHAPE_Area'].sum().to_dict()\n",
        "        \n",
        "        # محاسبه نسبت آماری برای تمامی کاربری‌ها\n",
        "        for landuse_type in all_landuse_types:\n",
        "            ratio = (landuse_counts.get(landuse_type, 0) * landuse_areas.get(landuse_type, 0)) / (len(parcels_within_buffer) * sum(landuse_areas.values()))\n",
        "            \n",
        "            # اضافه کردن نسبت آماری به دیکشنری کوواریانس\n",
        "            covariances_dict[landuse_type] = ratio\n",
        "        \n",
        "        # اضافه کردن دیکشنری کوواریانس به لیست کوواریانس‌ها\n",
        "        covariances.append(covariances_dict)\n",
        "    \n",
        "    # محاسبه میانگین کوواریانس بین دوبه دوی کاربری‌ها برای هر بافر\n",
        "    mean_covariances[buffer_size] = {}\n",
        "    for landuse_type in all_landuse_types:\n",
        "        ratios = [covariances_dict[landuse_type] for covariances_dict in covariances]\n",
        "        mean_ratio = np.mean(ratios)\n",
        "        mean_covariances[buffer_size][landuse_type] = mean_ratio\n",
        "\n",
        "# چاپ میانگین کوواریانس بین دوبه دوی کاربری‌ها\n",
        "for buffer_size, ratios_dict in mean_covariances.items():\n",
        "    print(f\"میانگین کوواریانس بین دوبه دوی کاربری‌ها برای بافر {buffer_size} متری:\")\n",
        "    for landuse_type, mean_ratio in ratios_dict.items():\n",
        "        print(f\"{landuse_type}: {mean_ratio}\")\n",
        "    print()\n",
        "\n"
      ]
    }
  ],
  "metadata": {
    "colab": {
      "provenance": [],
      "authorship_tag": "ABX9TyNTCJZLZ1YcTuqPsp+lXGBM",
      "include_colab_link": true
    },
    "kernelspec": {
      "display_name": "Python 3",
      "name": "python3"
    },
    "language_info": {
      "name": "python"
    }
  },
  "nbformat": 4,
  "nbformat_minor": 0
}